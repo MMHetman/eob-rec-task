{
 "cells": [
  {
   "cell_type": "markdown",
   "metadata": {},
   "source": [
    "# Analiza dostarczonych danych\n",
    "## Michał Hetmańczuk"
   ]
  },
  {
   "cell_type": "code",
   "execution_count": 1,
   "metadata": {},
   "outputs": [],
   "source": [
    "import pandas as pd"
   ]
  },
  {
   "cell_type": "markdown",
   "metadata": {},
   "source": [
    "## Załadowanie i transformacja dostarczonych danych"
   ]
  },
  {
   "cell_type": "code",
   "execution_count": 2,
   "metadata": {},
   "outputs": [],
   "source": [
    "orders = pd.read_csv('zamowienia.csv', sep=';')\n",
    "prices = pd.read_csv('cena bazowa.csv', sep=';')\n",
    "sent = pd.read_csv('wyslane.csv', sep=';')"
   ]
  },
  {
   "cell_type": "code",
   "execution_count": 3,
   "metadata": {},
   "outputs": [
    {
     "data": {
      "text/html": [
       "<div>\n",
       "<style scoped>\n",
       "    .dataframe tbody tr th:only-of-type {\n",
       "        vertical-align: middle;\n",
       "    }\n",
       "\n",
       "    .dataframe tbody tr th {\n",
       "        vertical-align: top;\n",
       "    }\n",
       "\n",
       "    .dataframe thead th {\n",
       "        text-align: right;\n",
       "    }\n",
       "</style>\n",
       "<table border=\"1\" class=\"dataframe\">\n",
       "  <thead>\n",
       "    <tr style=\"text-align: right;\">\n",
       "      <th></th>\n",
       "      <th>order_id</th>\n",
       "      <th>client_id</th>\n",
       "      <th>order_date</th>\n",
       "      <th>KUPON</th>\n",
       "    </tr>\n",
       "  </thead>\n",
       "  <tbody>\n",
       "    <tr>\n",
       "      <th>0</th>\n",
       "      <td>1462414</td>\n",
       "      <td>523933015</td>\n",
       "      <td>29.06.2019</td>\n",
       "      <td>NaN</td>\n",
       "    </tr>\n",
       "    <tr>\n",
       "      <th>1</th>\n",
       "      <td>1538139</td>\n",
       "      <td>814107372</td>\n",
       "      <td>15.08.2019</td>\n",
       "      <td>NaN</td>\n",
       "    </tr>\n",
       "    <tr>\n",
       "      <th>2</th>\n",
       "      <td>1838871</td>\n",
       "      <td>713139458</td>\n",
       "      <td>19.08.2019</td>\n",
       "      <td>NaN</td>\n",
       "    </tr>\n",
       "    <tr>\n",
       "      <th>3</th>\n",
       "      <td>1896544</td>\n",
       "      <td>123641536</td>\n",
       "      <td>05.05.2019</td>\n",
       "      <td>15%</td>\n",
       "    </tr>\n",
       "    <tr>\n",
       "      <th>4</th>\n",
       "      <td>1943852</td>\n",
       "      <td>602252913</td>\n",
       "      <td>30.07.2019</td>\n",
       "      <td>NaN</td>\n",
       "    </tr>\n",
       "    <tr>\n",
       "      <th>...</th>\n",
       "      <td>...</td>\n",
       "      <td>...</td>\n",
       "      <td>...</td>\n",
       "      <td>...</td>\n",
       "    </tr>\n",
       "    <tr>\n",
       "      <th>5018</th>\n",
       "      <td>997711725</td>\n",
       "      <td>4117165</td>\n",
       "      <td>06.05.2019</td>\n",
       "      <td>9%</td>\n",
       "    </tr>\n",
       "    <tr>\n",
       "      <th>5019</th>\n",
       "      <td>998024676</td>\n",
       "      <td>305628656</td>\n",
       "      <td>20.08.2019</td>\n",
       "      <td>NaN</td>\n",
       "    </tr>\n",
       "    <tr>\n",
       "      <th>5020</th>\n",
       "      <td>998261938</td>\n",
       "      <td>718872103</td>\n",
       "      <td>24.06.2019</td>\n",
       "      <td>NaN</td>\n",
       "    </tr>\n",
       "    <tr>\n",
       "      <th>5021</th>\n",
       "      <td>998648795</td>\n",
       "      <td>685690262</td>\n",
       "      <td>05.04.2019</td>\n",
       "      <td>NaN</td>\n",
       "    </tr>\n",
       "    <tr>\n",
       "      <th>5022</th>\n",
       "      <td>998934679</td>\n",
       "      <td>450085244</td>\n",
       "      <td>28.03.2019</td>\n",
       "      <td>NaN</td>\n",
       "    </tr>\n",
       "  </tbody>\n",
       "</table>\n",
       "<p>5023 rows × 4 columns</p>\n",
       "</div>"
      ],
      "text/plain": [
       "       order_id  client_id  order_date KUPON\n",
       "0       1462414  523933015  29.06.2019   NaN\n",
       "1       1538139  814107372  15.08.2019   NaN\n",
       "2       1838871  713139458  19.08.2019   NaN\n",
       "3       1896544  123641536  05.05.2019   15%\n",
       "4       1943852  602252913  30.07.2019   NaN\n",
       "...         ...        ...         ...   ...\n",
       "5018  997711725    4117165  06.05.2019    9%\n",
       "5019  998024676  305628656  20.08.2019   NaN\n",
       "5020  998261938  718872103  24.06.2019   NaN\n",
       "5021  998648795  685690262  05.04.2019   NaN\n",
       "5022  998934679  450085244  28.03.2019   NaN\n",
       "\n",
       "[5023 rows x 4 columns]"
      ]
     },
     "execution_count": 3,
     "metadata": {},
     "output_type": "execute_result"
    }
   ],
   "source": [
    "orders"
   ]
  },
  {
   "cell_type": "code",
   "execution_count": 4,
   "metadata": {},
   "outputs": [
    {
     "name": "stdout",
     "output_type": "stream",
     "text": [
      "<class 'pandas.core.frame.DataFrame'>\n",
      "RangeIndex: 5023 entries, 0 to 5022\n",
      "Data columns (total 4 columns):\n",
      " #   Column      Non-Null Count  Dtype \n",
      "---  ------      --------------  ----- \n",
      " 0   order_id    5023 non-null   int64 \n",
      " 1   client_id   5023 non-null   int64 \n",
      " 2   order_date  5023 non-null   object\n",
      " 3   KUPON       998 non-null    object\n",
      "dtypes: int64(2), object(2)\n",
      "memory usage: 157.1+ KB\n"
     ]
    }
   ],
   "source": [
    "orders.info()"
   ]
  },
  {
   "cell_type": "code",
   "execution_count": 5,
   "metadata": {},
   "outputs": [],
   "source": [
    "orders['order_date'] = pd.to_datetime(orders['order_date'])\n",
    "orders['KUPON'] = orders['KUPON'].str.rstrip('%').astype('float') / 100.0"
   ]
  },
  {
   "cell_type": "code",
   "execution_count": 6,
   "metadata": {},
   "outputs": [
    {
     "name": "stdout",
     "output_type": "stream",
     "text": [
      "2019-01-04 00:00:00\n",
      "2019-12-08 00:00:00\n"
     ]
    }
   ],
   "source": [
    "print(orders['order_date'].min())\n",
    "print(orders['order_date'].max())"
   ]
  },
  {
   "cell_type": "code",
   "execution_count": 7,
   "metadata": {},
   "outputs": [
    {
     "name": "stdout",
     "output_type": "stream",
     "text": [
      "           order_id     client_id       KUPON\n",
      "count  5.023000e+03  5.023000e+03  998.000000\n",
      "mean   4.904020e+08  4.992673e+08    0.274890\n",
      "std    2.873466e+08  2.868305e+08    0.135102\n",
      "min    1.462414e+06  1.078930e+05    0.050000\n",
      "25%    2.407280e+08  2.561680e+08    0.160000\n",
      "50%    4.835475e+08  4.973075e+08    0.270000\n",
      "75%    7.373715e+08  7.419003e+08    0.390000\n",
      "max    9.989347e+08  9.996900e+08    0.500000\n",
      "<class 'pandas.core.frame.DataFrame'>\n",
      "RangeIndex: 5023 entries, 0 to 5022\n",
      "Data columns (total 4 columns):\n",
      " #   Column      Non-Null Count  Dtype         \n",
      "---  ------      --------------  -----         \n",
      " 0   order_id    5023 non-null   int64         \n",
      " 1   client_id   5023 non-null   int64         \n",
      " 2   order_date  5023 non-null   datetime64[ns]\n",
      " 3   KUPON       998 non-null    float64       \n",
      "dtypes: datetime64[ns](1), float64(1), int64(2)\n",
      "memory usage: 157.1 KB\n",
      "None\n",
      "   order_id  client_id order_date  KUPON\n",
      "0   1462414  523933015 2019-06-29    NaN\n",
      "1   1538139  814107372 2019-08-15    NaN\n",
      "2   1838871  713139458 2019-08-19    NaN\n",
      "3   1896544  123641536 2019-05-05   0.15\n",
      "4   1943852  602252913 2019-07-30    NaN\n"
     ]
    }
   ],
   "source": [
    "print(orders.describe())\n",
    "print(orders.info())\n",
    "print(orders.head())"
   ]
  },
  {
   "cell_type": "markdown",
   "metadata": {},
   "source": [
    "### W jakim dniu roku klienci złożyli najwięcej zamówień?"
   ]
  },
  {
   "cell_type": "code",
   "execution_count": 8,
   "metadata": {},
   "outputs": [
    {
     "name": "stdout",
     "output_type": "stream",
     "text": [
      "order_date\n",
      "2019-08-14    41\n",
      "Name: order_id, dtype: int64\n"
     ]
    },
    {
     "data": {
      "image/png": "[encoded data removed]",
      "text/plain": [
       "<Figure size 432x288 with 1 Axes>"
      ]
     },
     "metadata": {
      "needs_background": "light"
     },
     "output_type": "display_data"
    }
   ],
   "source": [
    "orders_amount_by_date = orders.groupby('order_date')['order_id'].count()\n",
    "orders_amount_by_date.plot()\n",
    "print(orders_amount_by_date[orders_amount_by_date == orders_amount_by_date.max()])"
   ]
  },
  {
   "cell_type": "markdown",
   "metadata": {},
   "source": [
    "### Odp: 14.08.2019"
   ]
  },
  {
   "cell_type": "markdown",
   "metadata": {},
   "source": [
    "## Ilu klientów skorzystało z kuponu rabatowego w trakcie zakupów?"
   ]
  },
  {
   "cell_type": "code",
   "execution_count": 9,
   "metadata": {},
   "outputs": [
    {
     "data": {
      "text/plain": [
       "998"
      ]
     },
     "execution_count": 9,
     "metadata": {},
     "output_type": "execute_result"
    }
   ],
   "source": [
    "orders[orders['KUPON'].notnull()]['client_id'].nunique()"
   ]
  },
  {
   "cell_type": "markdown",
   "metadata": {},
   "source": [
    "### Odp: 998"
   ]
  },
  {
   "cell_type": "markdown",
   "metadata": {},
   "source": [
    "## Ilu klientów zrobiło w analizowanym okresie więcej niż jedno zamówienie?"
   ]
  },
  {
   "cell_type": "code",
   "execution_count": 10,
   "metadata": {},
   "outputs": [
    {
     "data": {
      "text/plain": [
       "22"
      ]
     },
     "execution_count": 10,
     "metadata": {},
     "output_type": "execute_result"
    }
   ],
   "source": [
    "orders_amount_by_client = orders.groupby('client_id')['order_id'].count()\n",
    "orders_amount_by_client[1 < orders_amount_by_client].count()"
   ]
  },
  {
   "cell_type": "markdown",
   "metadata": {},
   "source": [
    "### Odp: 22"
   ]
  },
  {
   "cell_type": "markdown",
   "metadata": {},
   "source": [
    "## Który z produktów cieszył się największym powodzeniem? Ilu klientów kupiło go ze zniżką?"
   ]
  },
  {
   "cell_type": "code",
   "execution_count": 11,
   "metadata": {},
   "outputs": [
    {
     "data": {
      "text/html": [
       "<div>\n",
       "<style scoped>\n",
       "    .dataframe tbody tr th:only-of-type {\n",
       "        vertical-align: middle;\n",
       "    }\n",
       "\n",
       "    .dataframe tbody tr th {\n",
       "        vertical-align: top;\n",
       "    }\n",
       "\n",
       "    .dataframe thead th {\n",
       "        text-align: right;\n",
       "    }\n",
       "</style>\n",
       "<table border=\"1\" class=\"dataframe\">\n",
       "  <thead>\n",
       "    <tr style=\"text-align: right;\">\n",
       "      <th></th>\n",
       "      <th>order_id</th>\n",
       "      <th>item_id_1</th>\n",
       "      <th>item_id_2</th>\n",
       "      <th>item_id_3</th>\n",
       "    </tr>\n",
       "  </thead>\n",
       "  <tbody>\n",
       "    <tr>\n",
       "      <th>0</th>\n",
       "      <td>314631735</td>\n",
       "      <td>2655227</td>\n",
       "      <td>9051607.0</td>\n",
       "      <td>NaN</td>\n",
       "    </tr>\n",
       "    <tr>\n",
       "      <th>1</th>\n",
       "      <td>802224752</td>\n",
       "      <td>1984910</td>\n",
       "      <td>4286301.0</td>\n",
       "      <td>NaN</td>\n",
       "    </tr>\n",
       "    <tr>\n",
       "      <th>2</th>\n",
       "      <td>716057036</td>\n",
       "      <td>2669985</td>\n",
       "      <td>1052038.0</td>\n",
       "      <td>NaN</td>\n",
       "    </tr>\n",
       "    <tr>\n",
       "      <th>3</th>\n",
       "      <td>125731133</td>\n",
       "      <td>5966397</td>\n",
       "      <td>NaN</td>\n",
       "      <td>NaN</td>\n",
       "    </tr>\n",
       "    <tr>\n",
       "      <th>4</th>\n",
       "      <td>12070864</td>\n",
       "      <td>6788106</td>\n",
       "      <td>9643817.0</td>\n",
       "      <td>NaN</td>\n",
       "    </tr>\n",
       "    <tr>\n",
       "      <th>...</th>\n",
       "      <td>...</td>\n",
       "      <td>...</td>\n",
       "      <td>...</td>\n",
       "      <td>...</td>\n",
       "    </tr>\n",
       "    <tr>\n",
       "      <th>3662</th>\n",
       "      <td>552069972</td>\n",
       "      <td>4738768</td>\n",
       "      <td>684194.0</td>\n",
       "      <td>4169115.0</td>\n",
       "    </tr>\n",
       "    <tr>\n",
       "      <th>3663</th>\n",
       "      <td>408612183</td>\n",
       "      <td>8250741</td>\n",
       "      <td>1005647.0</td>\n",
       "      <td>NaN</td>\n",
       "    </tr>\n",
       "    <tr>\n",
       "      <th>3664</th>\n",
       "      <td>725171229</td>\n",
       "      <td>152614</td>\n",
       "      <td>NaN</td>\n",
       "      <td>NaN</td>\n",
       "    </tr>\n",
       "    <tr>\n",
       "      <th>3665</th>\n",
       "      <td>26224680</td>\n",
       "      <td>1971413</td>\n",
       "      <td>NaN</td>\n",
       "      <td>NaN</td>\n",
       "    </tr>\n",
       "    <tr>\n",
       "      <th>3666</th>\n",
       "      <td>824588700</td>\n",
       "      <td>5801454</td>\n",
       "      <td>2448933.0</td>\n",
       "      <td>52730.0</td>\n",
       "    </tr>\n",
       "  </tbody>\n",
       "</table>\n",
       "<p>3667 rows × 4 columns</p>\n",
       "</div>"
      ],
      "text/plain": [
       "       order_id  item_id_1  item_id_2  item_id_3\n",
       "0     314631735    2655227  9051607.0        NaN\n",
       "1     802224752    1984910  4286301.0        NaN\n",
       "2     716057036    2669985  1052038.0        NaN\n",
       "3     125731133    5966397        NaN        NaN\n",
       "4      12070864    6788106  9643817.0        NaN\n",
       "...         ...        ...        ...        ...\n",
       "3662  552069972    4738768   684194.0  4169115.0\n",
       "3663  408612183    8250741  1005647.0        NaN\n",
       "3664  725171229     152614        NaN        NaN\n",
       "3665   26224680    1971413        NaN        NaN\n",
       "3666  824588700    5801454  2448933.0    52730.0\n",
       "\n",
       "[3667 rows x 4 columns]"
      ]
     },
     "execution_count": 11,
     "metadata": {},
     "output_type": "execute_result"
    }
   ],
   "source": [
    "sent "
   ]
  },
  {
   "cell_type": "code",
   "execution_count": 12,
   "metadata": {},
   "outputs": [
    {
     "name": "stdout",
     "output_type": "stream",
     "text": [
      "<class 'pandas.core.frame.DataFrame'>\n",
      "RangeIndex: 3667 entries, 0 to 3666\n",
      "Data columns (total 4 columns):\n",
      " #   Column     Non-Null Count  Dtype  \n",
      "---  ------     --------------  -----  \n",
      " 0   order_id   3667 non-null   int64  \n",
      " 1   item_id_1  3667 non-null   int64  \n",
      " 2   item_id_2  1328 non-null   float64\n",
      " 3   item_id_3  358 non-null    float64\n",
      "dtypes: float64(2), int64(2)\n",
      "memory usage: 114.7 KB\n"
     ]
    }
   ],
   "source": [
    "sent.info()"
   ]
  },
  {
   "cell_type": "markdown",
   "metadata": {},
   "source": [
    "#### Transformacja danych"
   ]
  },
  {
   "cell_type": "code",
   "execution_count": 13,
   "metadata": {},
   "outputs": [
    {
     "name": "stdout",
     "output_type": "stream",
     "text": [
      "<class 'pandas.core.frame.DataFrame'>\n",
      "Int64Index: 5353 entries, 0 to 11000\n",
      "Data columns (total 2 columns):\n",
      " #   Column    Non-Null Count  Dtype\n",
      "---  ------    --------------  -----\n",
      " 0   order_id  5353 non-null   int64\n",
      " 1   item_id   5353 non-null   int64\n",
      "dtypes: int64(2)\n",
      "memory usage: 125.5 KB\n",
      "None\n",
      "    order_id  item_id\n",
      "0  314631735  2655227\n",
      "1  802224752  1984910\n",
      "2  716057036  2669985\n",
      "3  125731133  5966397\n",
      "4   12070864  6788106\n"
     ]
    }
   ],
   "source": [
    "sent = pd.melt(sent, id_vars=['order_id'])\n",
    "sent = sent.drop(['variable'], axis=1) \n",
    "sent = sent.rename(columns={'value': 'item_id'})\n",
    "sent = sent.dropna()\n",
    "sent = sent.astype('int64')\n",
    "print(sent.info())\n",
    "print(sent.head())"
   ]
  },
  {
   "cell_type": "markdown",
   "metadata": {},
   "source": [
    "#### Rozwiązanie"
   ]
  },
  {
   "cell_type": "code",
   "execution_count": 14,
   "metadata": {},
   "outputs": [
    {
     "data": {
      "text/plain": [
       "item_id\n",
       "4355722    70\n",
       "Name: order_id, dtype: int64"
      ]
     },
     "execution_count": 14,
     "metadata": {},
     "output_type": "execute_result"
    }
   ],
   "source": [
    "orders_amount_by_item = sent.groupby('item_id')['order_id'].count()\n",
    "bestseller = orders_amount_by_item[orders_amount_by_item == orders_amount_by_item.max()]\n",
    "bestseller"
   ]
  },
  {
   "cell_type": "code",
   "execution_count": 24,
   "metadata": {},
   "outputs": [
    {
     "data": {
      "text/plain": [
       "11"
      ]
     },
     "execution_count": 24,
     "metadata": {},
     "output_type": "execute_result"
    }
   ],
   "source": [
    "bestseller_orders_ids = sent[sent['item_id'] == bestseller.index[0]]['order_id']\n",
    "bestseller_orders = orders[orders['order_id'].isin(bestseller_orders_ids)]\n",
    "bestseller_orders[bestseller_orders['KUPON'].notnull()]['client_id'].nunique()"
   ]
  },
  {
   "cell_type": "markdown",
   "metadata": {},
   "source": [
    "### Odp: Największą popularnością cieszył się produkt 4355722. Ze zniżką kupiło go 11 klientów."
   ]
  },
  {
   "cell_type": "markdown",
   "metadata": {},
   "source": [
    "## Który produkt był najczęściej kupowany ze zniżką?"
   ]
  },
  {
   "cell_type": "code",
   "execution_count": 27,
   "metadata": {},
   "outputs": [],
   "source": [
    "orders_with_coupon_ids = orders[orders['KUPON'].notnull()]['order_id']"
   ]
  },
  {
   "cell_type": "code",
   "execution_count": 32,
   "metadata": {},
   "outputs": [
    {
     "data": {
      "text/plain": [
       "item_id\n",
       "1554376    19\n",
       "Name: order_id, dtype: int64"
      ]
     },
     "execution_count": 32,
     "metadata": {},
     "output_type": "execute_result"
    }
   ],
   "source": [
    "items_with_coupon = sent[sent['order_id'].isin(orders_with_coupon_ids)]\n",
    "orders_amount_by_items_with_coupon = items_with_coupon.groupby('item_id')['order_id'].count()\n",
    "orders_amount_by_items_with_coupon[orders_amount_by_items_with_coupon == orders_amount_by_items_with_coupon.max()]"
   ]
  },
  {
   "cell_type": "markdown",
   "metadata": {},
   "source": [
    "### Odp: Ze zniżką najczęściej był kupowany produkt 1554376"
   ]
  },
  {
   "cell_type": "code",
   "execution_count": 35,
   "metadata": {},
   "outputs": [
    {
     "name": "stdout",
     "output_type": "stream",
     "text": [
      "<class 'pandas.core.frame.DataFrame'>\n",
      "RangeIndex: 110 entries, 0 to 109\n",
      "Data columns (total 2 columns):\n",
      " #   Column      Non-Null Count  Dtype\n",
      "---  ------      --------------  -----\n",
      " 0   item_id     110 non-null    int64\n",
      " 1   base_price  110 non-null    int64\n",
      "dtypes: int64(2)\n",
      "memory usage: 1.8 KB\n",
      "None\n",
      "   item_id  base_price\n",
      "0  7447126         225\n",
      "1  2696692         112\n",
      "2  2883136         192\n",
      "3  1984910         136\n",
      "4  2242676         107\n"
     ]
    }
   ],
   "source": [
    "print(prices.info())\n",
    "print(prices.head())"
   ]
  },
  {
   "cell_type": "markdown",
   "metadata": {},
   "source": [
    "## Jaka była końcowa wartość wszystkich zamówień w badanym okresie?"
   ]
  },
  {
   "cell_type": "code",
   "execution_count": 46,
   "metadata": {},
   "outputs": [],
   "source": [
    "sent_with_base_price = sent.join(prices.set_index('item_id'), on = 'item_id')\n",
    "sent_orders_with_base_price = sent_with_base_price.join(orders.set_index('order_id'), on='order_id')\n",
    "sent_orders_with_base_price['KUPON'] = sent_orders_with_base_price['KUPON'].fillna(0)"
   ]
  },
  {
   "cell_type": "code",
   "execution_count": 48,
   "metadata": {},
   "outputs": [],
   "source": [
    "final_prices = sent_orders_with_base_price['base_price'] * (1 - sent_orders_with_base_price['KUPON'] )"
   ]
  },
  {
   "cell_type": "code",
   "execution_count": 50,
   "metadata": {},
   "outputs": [
    {
     "data": {
      "text/plain": [
       "794260.69"
      ]
     },
     "execution_count": 50,
     "metadata": {},
     "output_type": "execute_result"
    }
   ],
   "source": [
    "final_prices.sum()"
   ]
  },
  {
   "cell_type": "markdown",
   "metadata": {},
   "source": [
    "### Odp: 794260.69"
   ]
  }
 ],
 "metadata": {
  "kernelspec": {
   "display_name": "Python 3",
   "language": "python",
   "name": "python3"
  },
  "language_info": {
   "codemirror_mode": {
    "name": "ipython",
    "version": 3
   },
   "file_extension": ".py",
   "mimetype": "text/x-python",
   "name": "python",
   "nbconvert_exporter": "python",
   "pygments_lexer": "ipython3",
   "version": "3.8.2"
  }
 },
 "nbformat": 4,
 "nbformat_minor": 1
}
